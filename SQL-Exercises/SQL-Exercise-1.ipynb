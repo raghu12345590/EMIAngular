{
    "metadata": {
        "kernelspec": {
            "name": "SQL",
            "display_name": "SQL",
            "language": "sql"
        },
        "language_info": {
            "name": "sql",
            "version": ""
        },
        "extensions": {
            "azuredatastudio": {
                "version": 1,
                "views": []
            }
        }
    },
    "nbformat_minor": 2,
    "nbformat": 4,
    "cells": [
        {
            "cell_type": "code",
            "source": [
                "SELECT Distinct(Department) FROM Employee"
            ],
            "metadata": {
                "azdata_cell_guid": "a29ad72a-ec1e-4433-a3a3-66b49e6f3b18"
            },
            "outputs": [
                {
                    "output_type": "display_data",
                    "data": {
                        "text/html": "(4 rows affected)"
                    },
                    "metadata": {}
                },
                {
                    "output_type": "display_data",
                    "data": {
                        "text/html": "Total execution time: 00:00:00.015"
                    },
                    "metadata": {}
                },
                {
                    "output_type": "execute_result",
                    "metadata": {},
                    "execution_count": 1,
                    "data": {
                        "application/vnd.dataresource+json": {
                            "schema": {
                                "fields": [
                                    {
                                        "name": "Department"
                                    }
                                ]
                            },
                            "data": [
                                {
                                    "0": "Advertising"
                                },
                                {
                                    "0": "Production"
                                },
                                {
                                    "0": "Sales"
                                },
                                {
                                    "0": "Shipping"
                                }
                            ]
                        },
                        "text/html": [
                            "<table>",
                            "<tr><th>Department</th></tr>",
                            "<tr><td>Advertising</td></tr>",
                            "<tr><td>Production</td></tr>",
                            "<tr><td>Sales</td></tr>",
                            "<tr><td>Shipping</td></tr>",
                            "</table>"
                        ]
                    }
                }
            ],
            "execution_count": 1
        },
        {
            "cell_type": "code",
            "source": [
                "ALTER TABLE Employee \r\n",
                "ADD Location NVARCHAR(Max)"
            ],
            "metadata": {
                "azdata_cell_guid": "6ac1bc15-2af4-4f7e-a617-d4391a212c71"
            },
            "outputs": [
                {
                    "output_type": "display_data",
                    "data": {
                        "text/html": "Commands completed successfully."
                    },
                    "metadata": {}
                },
                {
                    "output_type": "display_data",
                    "data": {
                        "text/html": "Total execution time: 00:00:00.008"
                    },
                    "metadata": {}
                }
            ],
            "execution_count": 2
        },
        {
            "cell_type": "code",
            "source": [
                "SELECT * FROM Employee"
            ],
            "metadata": {
                "azdata_cell_guid": "b77fa61c-3c57-41be-9050-58983dcf6e45"
            },
            "outputs": [
                {
                    "output_type": "display_data",
                    "data": {
                        "text/html": "(9 rows affected)"
                    },
                    "metadata": {}
                },
                {
                    "output_type": "display_data",
                    "data": {
                        "text/html": "Total execution time: 00:00:00.024"
                    },
                    "metadata": {}
                },
                {
                    "output_type": "execute_result",
                    "metadata": {},
                    "execution_count": 3,
                    "data": {
                        "application/vnd.dataresource+json": {
                            "schema": {
                                "fields": [
                                    {
                                        "name": "Emp_id"
                                    },
                                    {
                                        "name": "Name"
                                    },
                                    {
                                        "name": "Department"
                                    },
                                    {
                                        "name": "Hire_date"
                                    },
                                    {
                                        "name": "Training"
                                    },
                                    {
                                        "name": "Location"
                                    }
                                ]
                            },
                            "data": [
                                {
                                    "0": "1234",
                                    "1": "J. Jones",
                                    "2": "Sales",
                                    "3": "1992-06-18",
                                    "4": "24",
                                    "5": "NULL"
                                },
                                {
                                    "0": "2345",
                                    "1": "S. Smith",
                                    "2": "Production",
                                    "3": "1998-02-12",
                                    "4": "40",
                                    "5": "NULL"
                                },
                                {
                                    "0": "3456",
                                    "1": "A. Adams",
                                    "2": "Sales",
                                    "3": "1998-11-18",
                                    "4": "60",
                                    "5": "NULL"
                                },
                                {
                                    "0": "4567",
                                    "1": "B. Bates",
                                    "2": "Advertising",
                                    "3": "1985-03-10",
                                    "4": "16",
                                    "5": "NULL"
                                },
                                {
                                    "0": "5678",
                                    "1": "D. Davis",
                                    "2": "Production",
                                    "3": "1999-07-26",
                                    "4": "56",
                                    "5": "NULL"
                                },
                                {
                                    "0": "6789",
                                    "1": "C. Cole",
                                    "2": "Shipping",
                                    "3": "1991-08-18",
                                    "4": "32",
                                    "5": "NULL"
                                },
                                {
                                    "0": "7890",
                                    "1": "E. Elllis",
                                    "2": "Sales",
                                    "3": "1998-12-15",
                                    "4": "80",
                                    "5": "NULL"
                                },
                                {
                                    "0": "8901",
                                    "1": "F. Files",
                                    "2": "Advertising",
                                    "3": "1990-10-17",
                                    "4": "24",
                                    "5": "NULL"
                                },
                                {
                                    "0": "9012",
                                    "1": "G. Gates",
                                    "2": "Advertising",
                                    "3": "1999-03-15",
                                    "4": "48",
                                    "5": "NULL"
                                }
                            ]
                        },
                        "text/html": [
                            "<table>",
                            "<tr><th>Emp_id</th><th>Name</th><th>Department</th><th>Hire_date</th><th>Training</th><th>Location</th></tr>",
                            "<tr><td>1234</td><td>J. Jones</td><td>Sales</td><td>1992-06-18</td><td>24</td><td>NULL</td></tr>",
                            "<tr><td>2345</td><td>S. Smith</td><td>Production</td><td>1998-02-12</td><td>40</td><td>NULL</td></tr>",
                            "<tr><td>3456</td><td>A. Adams</td><td>Sales</td><td>1998-11-18</td><td>60</td><td>NULL</td></tr>",
                            "<tr><td>4567</td><td>B. Bates</td><td>Advertising</td><td>1985-03-10</td><td>16</td><td>NULL</td></tr>",
                            "<tr><td>5678</td><td>D. Davis</td><td>Production</td><td>1999-07-26</td><td>56</td><td>NULL</td></tr>",
                            "<tr><td>6789</td><td>C. Cole</td><td>Shipping</td><td>1991-08-18</td><td>32</td><td>NULL</td></tr>",
                            "<tr><td>7890</td><td>E. Elllis</td><td>Sales</td><td>1998-12-15</td><td>80</td><td>NULL</td></tr>",
                            "<tr><td>8901</td><td>F. Files</td><td>Advertising</td><td>1990-10-17</td><td>24</td><td>NULL</td></tr>",
                            "<tr><td>9012</td><td>G. Gates</td><td>Advertising</td><td>1999-03-15</td><td>48</td><td>NULL</td></tr>",
                            "</table>"
                        ]
                    }
                }
            ],
            "execution_count": 3
        },
        {
            "cell_type": "code",
            "source": [
                "sp_rename 'Employee.Emp_id','EployeeId'"
            ],
            "metadata": {
                "azdata_cell_guid": "0c449311-0b0d-401e-96e5-70fe670ce2bc"
            },
            "outputs": [
                {
                    "output_type": "display_data",
                    "data": {
                        "text/html": "Caution: Changing any part of an object name could break scripts and stored procedures."
                    },
                    "metadata": {}
                },
                {
                    "output_type": "display_data",
                    "data": {
                        "text/html": "Total execution time: 00:00:00.154"
                    },
                    "metadata": {}
                }
            ],
            "execution_count": 4
        },
        {
            "cell_type": "code",
            "source": [
                "SELECT * FROM Employee\r\n",
                ""
            ],
            "metadata": {
                "azdata_cell_guid": "c688e20a-aed1-4c25-93a4-f5bd970325e0"
            },
            "outputs": [
                {
                    "output_type": "display_data",
                    "data": {
                        "text/html": "(9 rows affected)"
                    },
                    "metadata": {}
                },
                {
                    "output_type": "display_data",
                    "data": {
                        "text/html": "Total execution time: 00:00:00.004"
                    },
                    "metadata": {}
                },
                {
                    "output_type": "execute_result",
                    "metadata": {},
                    "execution_count": 5,
                    "data": {
                        "application/vnd.dataresource+json": {
                            "schema": {
                                "fields": [
                                    {
                                        "name": "EployeeId"
                                    },
                                    {
                                        "name": "Name"
                                    },
                                    {
                                        "name": "Department"
                                    },
                                    {
                                        "name": "Hire_date"
                                    },
                                    {
                                        "name": "Training"
                                    },
                                    {
                                        "name": "Location"
                                    }
                                ]
                            },
                            "data": [
                                {
                                    "0": "1234",
                                    "1": "J. Jones",
                                    "2": "Sales",
                                    "3": "1992-06-18",
                                    "4": "24",
                                    "5": "NULL"
                                },
                                {
                                    "0": "2345",
                                    "1": "S. Smith",
                                    "2": "Production",
                                    "3": "1998-02-12",
                                    "4": "40",
                                    "5": "NULL"
                                },
                                {
                                    "0": "3456",
                                    "1": "A. Adams",
                                    "2": "Sales",
                                    "3": "1998-11-18",
                                    "4": "60",
                                    "5": "NULL"
                                },
                                {
                                    "0": "4567",
                                    "1": "B. Bates",
                                    "2": "Advertising",
                                    "3": "1985-03-10",
                                    "4": "16",
                                    "5": "NULL"
                                },
                                {
                                    "0": "5678",
                                    "1": "D. Davis",
                                    "2": "Production",
                                    "3": "1999-07-26",
                                    "4": "56",
                                    "5": "NULL"
                                },
                                {
                                    "0": "6789",
                                    "1": "C. Cole",
                                    "2": "Shipping",
                                    "3": "1991-08-18",
                                    "4": "32",
                                    "5": "NULL"
                                },
                                {
                                    "0": "7890",
                                    "1": "E. Elllis",
                                    "2": "Sales",
                                    "3": "1998-12-15",
                                    "4": "80",
                                    "5": "NULL"
                                },
                                {
                                    "0": "8901",
                                    "1": "F. Files",
                                    "2": "Advertising",
                                    "3": "1990-10-17",
                                    "4": "24",
                                    "5": "NULL"
                                },
                                {
                                    "0": "9012",
                                    "1": "G. Gates",
                                    "2": "Advertising",
                                    "3": "1999-03-15",
                                    "4": "48",
                                    "5": "NULL"
                                }
                            ]
                        },
                        "text/html": [
                            "<table>",
                            "<tr><th>EployeeId</th><th>Name</th><th>Department</th><th>Hire_date</th><th>Training</th><th>Location</th></tr>",
                            "<tr><td>1234</td><td>J. Jones</td><td>Sales</td><td>1992-06-18</td><td>24</td><td>NULL</td></tr>",
                            "<tr><td>2345</td><td>S. Smith</td><td>Production</td><td>1998-02-12</td><td>40</td><td>NULL</td></tr>",
                            "<tr><td>3456</td><td>A. Adams</td><td>Sales</td><td>1998-11-18</td><td>60</td><td>NULL</td></tr>",
                            "<tr><td>4567</td><td>B. Bates</td><td>Advertising</td><td>1985-03-10</td><td>16</td><td>NULL</td></tr>",
                            "<tr><td>5678</td><td>D. Davis</td><td>Production</td><td>1999-07-26</td><td>56</td><td>NULL</td></tr>",
                            "<tr><td>6789</td><td>C. Cole</td><td>Shipping</td><td>1991-08-18</td><td>32</td><td>NULL</td></tr>",
                            "<tr><td>7890</td><td>E. Elllis</td><td>Sales</td><td>1998-12-15</td><td>80</td><td>NULL</td></tr>",
                            "<tr><td>8901</td><td>F. Files</td><td>Advertising</td><td>1990-10-17</td><td>24</td><td>NULL</td></tr>",
                            "<tr><td>9012</td><td>G. Gates</td><td>Advertising</td><td>1999-03-15</td><td>48</td><td>NULL</td></tr>",
                            "</table>"
                        ]
                    }
                }
            ],
            "execution_count": 5
        },
        {
            "cell_type": "code",
            "source": [
                "SELECT * FROM Employee WHERE Department in('Sales','Shipping')"
            ],
            "metadata": {
                "azdata_cell_guid": "5e3289eb-be3d-4f54-857f-c21307a2df99"
            },
            "outputs": [
                {
                    "output_type": "display_data",
                    "data": {
                        "text/html": "(4 rows affected)"
                    },
                    "metadata": {}
                },
                {
                    "output_type": "display_data",
                    "data": {
                        "text/html": "Total execution time: 00:00:00.006"
                    },
                    "metadata": {}
                },
                {
                    "output_type": "execute_result",
                    "metadata": {},
                    "execution_count": 6,
                    "data": {
                        "application/vnd.dataresource+json": {
                            "schema": {
                                "fields": [
                                    {
                                        "name": "EployeeId"
                                    },
                                    {
                                        "name": "Name"
                                    },
                                    {
                                        "name": "Department"
                                    },
                                    {
                                        "name": "Hire_date"
                                    },
                                    {
                                        "name": "Training"
                                    },
                                    {
                                        "name": "Location"
                                    }
                                ]
                            },
                            "data": [
                                {
                                    "0": "1234",
                                    "1": "J. Jones",
                                    "2": "Sales",
                                    "3": "1992-06-18",
                                    "4": "24",
                                    "5": "NULL"
                                },
                                {
                                    "0": "3456",
                                    "1": "A. Adams",
                                    "2": "Sales",
                                    "3": "1998-11-18",
                                    "4": "60",
                                    "5": "NULL"
                                },
                                {
                                    "0": "6789",
                                    "1": "C. Cole",
                                    "2": "Shipping",
                                    "3": "1991-08-18",
                                    "4": "32",
                                    "5": "NULL"
                                },
                                {
                                    "0": "7890",
                                    "1": "E. Elllis",
                                    "2": "Sales",
                                    "3": "1998-12-15",
                                    "4": "80",
                                    "5": "NULL"
                                }
                            ]
                        },
                        "text/html": [
                            "<table>",
                            "<tr><th>EployeeId</th><th>Name</th><th>Department</th><th>Hire_date</th><th>Training</th><th>Location</th></tr>",
                            "<tr><td>1234</td><td>J. Jones</td><td>Sales</td><td>1992-06-18</td><td>24</td><td>NULL</td></tr>",
                            "<tr><td>3456</td><td>A. Adams</td><td>Sales</td><td>1998-11-18</td><td>60</td><td>NULL</td></tr>",
                            "<tr><td>6789</td><td>C. Cole</td><td>Shipping</td><td>1991-08-18</td><td>32</td><td>NULL</td></tr>",
                            "<tr><td>7890</td><td>E. Elllis</td><td>Sales</td><td>1998-12-15</td><td>80</td><td>NULL</td></tr>",
                            "</table>"
                        ]
                    }
                }
            ],
            "execution_count": 6
        },
        {
            "cell_type": "code",
            "source": [
                "SELECT * FROM Employee \r\n",
                "WHERE [Hire_date] BETWEEN '1991-01-01' AND '1998-12-31'"
            ],
            "metadata": {
                "azdata_cell_guid": "e3709058-a5d4-4bad-aac1-c1bc1d96b9f6"
            },
            "outputs": [
                {
                    "output_type": "display_data",
                    "data": {
                        "text/html": "(5 rows affected)"
                    },
                    "metadata": {}
                },
                {
                    "output_type": "display_data",
                    "data": {
                        "text/html": "Total execution time: 00:00:00.008"
                    },
                    "metadata": {}
                },
                {
                    "output_type": "execute_result",
                    "metadata": {},
                    "execution_count": 7,
                    "data": {
                        "application/vnd.dataresource+json": {
                            "schema": {
                                "fields": [
                                    {
                                        "name": "EployeeId"
                                    },
                                    {
                                        "name": "Name"
                                    },
                                    {
                                        "name": "Department"
                                    },
                                    {
                                        "name": "Hire_date"
                                    },
                                    {
                                        "name": "Training"
                                    },
                                    {
                                        "name": "Location"
                                    }
                                ]
                            },
                            "data": [
                                {
                                    "0": "1234",
                                    "1": "J. Jones",
                                    "2": "Sales",
                                    "3": "1992-06-18",
                                    "4": "24",
                                    "5": "NULL"
                                },
                                {
                                    "0": "2345",
                                    "1": "S. Smith",
                                    "2": "Production",
                                    "3": "1998-02-12",
                                    "4": "40",
                                    "5": "NULL"
                                },
                                {
                                    "0": "3456",
                                    "1": "A. Adams",
                                    "2": "Sales",
                                    "3": "1998-11-18",
                                    "4": "60",
                                    "5": "NULL"
                                },
                                {
                                    "0": "6789",
                                    "1": "C. Cole",
                                    "2": "Shipping",
                                    "3": "1991-08-18",
                                    "4": "32",
                                    "5": "NULL"
                                },
                                {
                                    "0": "7890",
                                    "1": "E. Elllis",
                                    "2": "Sales",
                                    "3": "1998-12-15",
                                    "4": "80",
                                    "5": "NULL"
                                }
                            ]
                        },
                        "text/html": [
                            "<table>",
                            "<tr><th>EployeeId</th><th>Name</th><th>Department</th><th>Hire_date</th><th>Training</th><th>Location</th></tr>",
                            "<tr><td>1234</td><td>J. Jones</td><td>Sales</td><td>1992-06-18</td><td>24</td><td>NULL</td></tr>",
                            "<tr><td>2345</td><td>S. Smith</td><td>Production</td><td>1998-02-12</td><td>40</td><td>NULL</td></tr>",
                            "<tr><td>3456</td><td>A. Adams</td><td>Sales</td><td>1998-11-18</td><td>60</td><td>NULL</td></tr>",
                            "<tr><td>6789</td><td>C. Cole</td><td>Shipping</td><td>1991-08-18</td><td>32</td><td>NULL</td></tr>",
                            "<tr><td>7890</td><td>E. Elllis</td><td>Sales</td><td>1998-12-15</td><td>80</td><td>NULL</td></tr>",
                            "</table>"
                        ]
                    }
                }
            ],
            "execution_count": 7
        },
        {
            "cell_type": "code",
            "source": [
                "SELECT * INTO NewTable FROM Employee WHERE 1=2 "
            ],
            "metadata": {
                "azdata_cell_guid": "b68a9cb3-e67e-468e-8912-9963fb9bcc00"
            },
            "outputs": [
                {
                    "output_type": "display_data",
                    "data": {
                        "text/html": "(0 rows affected)"
                    },
                    "metadata": {}
                },
                {
                    "output_type": "display_data",
                    "data": {
                        "text/html": "Total execution time: 00:00:00.019"
                    },
                    "metadata": {}
                }
            ],
            "execution_count": 8
        },
        {
            "cell_type": "code",
            "source": [
                "SELECT * FROM NewTable"
            ],
            "metadata": {
                "azdata_cell_guid": "cec2ee35-8d6e-4c8c-b2fd-03f05eae6952"
            },
            "outputs": [
                {
                    "output_type": "display_data",
                    "data": {
                        "text/html": "(0 rows affected)"
                    },
                    "metadata": {}
                },
                {
                    "output_type": "display_data",
                    "data": {
                        "text/html": "Total execution time: 00:00:00.003"
                    },
                    "metadata": {}
                },
                {
                    "output_type": "execute_result",
                    "metadata": {},
                    "execution_count": 9,
                    "data": {
                        "application/vnd.dataresource+json": {
                            "schema": {
                                "fields": [
                                    {
                                        "name": "EployeeId"
                                    },
                                    {
                                        "name": "Name"
                                    },
                                    {
                                        "name": "Department"
                                    },
                                    {
                                        "name": "Hire_date"
                                    },
                                    {
                                        "name": "Training"
                                    },
                                    {
                                        "name": "Location"
                                    }
                                ]
                            },
                            "data": []
                        },
                        "text/html": [
                            "<table>",
                            "<tr><th>EployeeId</th><th>Name</th><th>Department</th><th>Hire_date</th><th>Training</th><th>Location</th></tr>",
                            "</table>"
                        ]
                    }
                }
            ],
            "execution_count": 9
        },
        {
            "cell_type": "code",
            "source": [
                "SELECT * FROm Employee WHERE Training > 40"
            ],
            "metadata": {
                "azdata_cell_guid": "3602a3d5-c61d-4c18-8230-cc34afa3ae19"
            },
            "outputs": [
                {
                    "output_type": "display_data",
                    "data": {
                        "text/html": "(4 rows affected)"
                    },
                    "metadata": {}
                },
                {
                    "output_type": "display_data",
                    "data": {
                        "text/html": "Total execution time: 00:00:00.006"
                    },
                    "metadata": {}
                },
                {
                    "output_type": "execute_result",
                    "metadata": {},
                    "execution_count": 10,
                    "data": {
                        "application/vnd.dataresource+json": {
                            "schema": {
                                "fields": [
                                    {
                                        "name": "EployeeId"
                                    },
                                    {
                                        "name": "Name"
                                    },
                                    {
                                        "name": "Department"
                                    },
                                    {
                                        "name": "Hire_date"
                                    },
                                    {
                                        "name": "Training"
                                    },
                                    {
                                        "name": "Location"
                                    }
                                ]
                            },
                            "data": [
                                {
                                    "0": "3456",
                                    "1": "A. Adams",
                                    "2": "Sales",
                                    "3": "1998-11-18",
                                    "4": "60",
                                    "5": "NULL"
                                },
                                {
                                    "0": "5678",
                                    "1": "D. Davis",
                                    "2": "Production",
                                    "3": "1999-07-26",
                                    "4": "56",
                                    "5": "NULL"
                                },
                                {
                                    "0": "7890",
                                    "1": "E. Elllis",
                                    "2": "Sales",
                                    "3": "1998-12-15",
                                    "4": "80",
                                    "5": "NULL"
                                },
                                {
                                    "0": "9012",
                                    "1": "G. Gates",
                                    "2": "Advertising",
                                    "3": "1999-03-15",
                                    "4": "48",
                                    "5": "NULL"
                                }
                            ]
                        },
                        "text/html": [
                            "<table>",
                            "<tr><th>EployeeId</th><th>Name</th><th>Department</th><th>Hire_date</th><th>Training</th><th>Location</th></tr>",
                            "<tr><td>3456</td><td>A. Adams</td><td>Sales</td><td>1998-11-18</td><td>60</td><td>NULL</td></tr>",
                            "<tr><td>5678</td><td>D. Davis</td><td>Production</td><td>1999-07-26</td><td>56</td><td>NULL</td></tr>",
                            "<tr><td>7890</td><td>E. Elllis</td><td>Sales</td><td>1998-12-15</td><td>80</td><td>NULL</td></tr>",
                            "<tr><td>9012</td><td>G. Gates</td><td>Advertising</td><td>1999-03-15</td><td>48</td><td>NULL</td></tr>",
                            "</table>"
                        ]
                    }
                }
            ],
            "execution_count": 10
        },
        {
            "cell_type": "code",
            "source": [
                "DELETE FROM Employee WHERE Training > 60"
            ],
            "metadata": {
                "azdata_cell_guid": "ec291d33-fb7c-4112-b5ed-2fcdb7bc0d60"
            },
            "outputs": [
                {
                    "output_type": "display_data",
                    "data": {
                        "text/html": "(1 row affected)"
                    },
                    "metadata": {}
                },
                {
                    "output_type": "display_data",
                    "data": {
                        "text/html": "Total execution time: 00:00:00.012"
                    },
                    "metadata": {}
                }
            ],
            "execution_count": 11
        },
        {
            "cell_type": "code",
            "source": [
                "SELECT * FROM Employee"
            ],
            "metadata": {
                "azdata_cell_guid": "3693d5cb-3795-4a14-ad0b-1f0b4fa8c49e"
            },
            "outputs": [
                {
                    "output_type": "display_data",
                    "data": {
                        "text/html": "(8 rows affected)"
                    },
                    "metadata": {}
                },
                {
                    "output_type": "display_data",
                    "data": {
                        "text/html": "Total execution time: 00:00:00.009"
                    },
                    "metadata": {}
                },
                {
                    "output_type": "execute_result",
                    "metadata": {},
                    "execution_count": 12,
                    "data": {
                        "application/vnd.dataresource+json": {
                            "schema": {
                                "fields": [
                                    {
                                        "name": "EployeeId"
                                    },
                                    {
                                        "name": "Name"
                                    },
                                    {
                                        "name": "Department"
                                    },
                                    {
                                        "name": "Hire_date"
                                    },
                                    {
                                        "name": "Training"
                                    },
                                    {
                                        "name": "Location"
                                    }
                                ]
                            },
                            "data": [
                                {
                                    "0": "1234",
                                    "1": "J. Jones",
                                    "2": "Sales",
                                    "3": "1992-06-18",
                                    "4": "24",
                                    "5": "NULL"
                                },
                                {
                                    "0": "2345",
                                    "1": "S. Smith",
                                    "2": "Production",
                                    "3": "1998-02-12",
                                    "4": "40",
                                    "5": "NULL"
                                },
                                {
                                    "0": "3456",
                                    "1": "A. Adams",
                                    "2": "Sales",
                                    "3": "1998-11-18",
                                    "4": "60",
                                    "5": "NULL"
                                },
                                {
                                    "0": "4567",
                                    "1": "B. Bates",
                                    "2": "Advertising",
                                    "3": "1985-03-10",
                                    "4": "16",
                                    "5": "NULL"
                                },
                                {
                                    "0": "5678",
                                    "1": "D. Davis",
                                    "2": "Production",
                                    "3": "1999-07-26",
                                    "4": "56",
                                    "5": "NULL"
                                },
                                {
                                    "0": "6789",
                                    "1": "C. Cole",
                                    "2": "Shipping",
                                    "3": "1991-08-18",
                                    "4": "32",
                                    "5": "NULL"
                                },
                                {
                                    "0": "8901",
                                    "1": "F. Files",
                                    "2": "Advertising",
                                    "3": "1990-10-17",
                                    "4": "24",
                                    "5": "NULL"
                                },
                                {
                                    "0": "9012",
                                    "1": "G. Gates",
                                    "2": "Advertising",
                                    "3": "1999-03-15",
                                    "4": "48",
                                    "5": "NULL"
                                }
                            ]
                        },
                        "text/html": [
                            "<table>",
                            "<tr><th>EployeeId</th><th>Name</th><th>Department</th><th>Hire_date</th><th>Training</th><th>Location</th></tr>",
                            "<tr><td>1234</td><td>J. Jones</td><td>Sales</td><td>1992-06-18</td><td>24</td><td>NULL</td></tr>",
                            "<tr><td>2345</td><td>S. Smith</td><td>Production</td><td>1998-02-12</td><td>40</td><td>NULL</td></tr>",
                            "<tr><td>3456</td><td>A. Adams</td><td>Sales</td><td>1998-11-18</td><td>60</td><td>NULL</td></tr>",
                            "<tr><td>4567</td><td>B. Bates</td><td>Advertising</td><td>1985-03-10</td><td>16</td><td>NULL</td></tr>",
                            "<tr><td>5678</td><td>D. Davis</td><td>Production</td><td>1999-07-26</td><td>56</td><td>NULL</td></tr>",
                            "<tr><td>6789</td><td>C. Cole</td><td>Shipping</td><td>1991-08-18</td><td>32</td><td>NULL</td></tr>",
                            "<tr><td>8901</td><td>F. Files</td><td>Advertising</td><td>1990-10-17</td><td>24</td><td>NULL</td></tr>",
                            "<tr><td>9012</td><td>G. Gates</td><td>Advertising</td><td>1999-03-15</td><td>48</td><td>NULL</td></tr>",
                            "</table>"
                        ]
                    }
                }
            ],
            "execution_count": 12
        },
        {
            "cell_type": "code",
            "source": [
                "ALTER TABLE Employee DROP COLUMN [Hire_date]"
            ],
            "metadata": {
                "azdata_cell_guid": "c84e50c1-4b54-47ee-978c-666081279eac"
            },
            "outputs": [
                {
                    "output_type": "display_data",
                    "data": {
                        "text/html": "Commands completed successfully."
                    },
                    "metadata": {}
                },
                {
                    "output_type": "display_data",
                    "data": {
                        "text/html": "Total execution time: 00:00:00.017"
                    },
                    "metadata": {}
                }
            ],
            "execution_count": 13
        },
        {
            "cell_type": "code",
            "source": [
                "SELECT * FROM Employee"
            ],
            "metadata": {
                "azdata_cell_guid": "0259bb2c-0b61-4c3b-bab3-53336135c66b"
            },
            "outputs": [
                {
                    "output_type": "display_data",
                    "data": {
                        "text/html": "(8 rows affected)"
                    },
                    "metadata": {}
                },
                {
                    "output_type": "display_data",
                    "data": {
                        "text/html": "Total execution time: 00:00:00.010"
                    },
                    "metadata": {}
                },
                {
                    "output_type": "execute_result",
                    "metadata": {},
                    "execution_count": 14,
                    "data": {
                        "application/vnd.dataresource+json": {
                            "schema": {
                                "fields": [
                                    {
                                        "name": "EployeeId"
                                    },
                                    {
                                        "name": "Name"
                                    },
                                    {
                                        "name": "Department"
                                    },
                                    {
                                        "name": "Training"
                                    },
                                    {
                                        "name": "Location"
                                    }
                                ]
                            },
                            "data": [
                                {
                                    "0": "1234",
                                    "1": "J. Jones",
                                    "2": "Sales",
                                    "3": "24",
                                    "4": "NULL"
                                },
                                {
                                    "0": "2345",
                                    "1": "S. Smith",
                                    "2": "Production",
                                    "3": "40",
                                    "4": "NULL"
                                },
                                {
                                    "0": "3456",
                                    "1": "A. Adams",
                                    "2": "Sales",
                                    "3": "60",
                                    "4": "NULL"
                                },
                                {
                                    "0": "4567",
                                    "1": "B. Bates",
                                    "2": "Advertising",
                                    "3": "16",
                                    "4": "NULL"
                                },
                                {
                                    "0": "5678",
                                    "1": "D. Davis",
                                    "2": "Production",
                                    "3": "56",
                                    "4": "NULL"
                                },
                                {
                                    "0": "6789",
                                    "1": "C. Cole",
                                    "2": "Shipping",
                                    "3": "32",
                                    "4": "NULL"
                                },
                                {
                                    "0": "8901",
                                    "1": "F. Files",
                                    "2": "Advertising",
                                    "3": "24",
                                    "4": "NULL"
                                },
                                {
                                    "0": "9012",
                                    "1": "G. Gates",
                                    "2": "Advertising",
                                    "3": "48",
                                    "4": "NULL"
                                }
                            ]
                        },
                        "text/html": [
                            "<table>",
                            "<tr><th>EployeeId</th><th>Name</th><th>Department</th><th>Training</th><th>Location</th></tr>",
                            "<tr><td>1234</td><td>J. Jones</td><td>Sales</td><td>24</td><td>NULL</td></tr>",
                            "<tr><td>2345</td><td>S. Smith</td><td>Production</td><td>40</td><td>NULL</td></tr>",
                            "<tr><td>3456</td><td>A. Adams</td><td>Sales</td><td>60</td><td>NULL</td></tr>",
                            "<tr><td>4567</td><td>B. Bates</td><td>Advertising</td><td>16</td><td>NULL</td></tr>",
                            "<tr><td>5678</td><td>D. Davis</td><td>Production</td><td>56</td><td>NULL</td></tr>",
                            "<tr><td>6789</td><td>C. Cole</td><td>Shipping</td><td>32</td><td>NULL</td></tr>",
                            "<tr><td>8901</td><td>F. Files</td><td>Advertising</td><td>24</td><td>NULL</td></tr>",
                            "<tr><td>9012</td><td>G. Gates</td><td>Advertising</td><td>48</td><td>NULL</td></tr>",
                            "</table>"
                        ]
                    }
                }
            ],
            "execution_count": 14
        },
        {
            "cell_type": "code",
            "source": [
                "ALTER TABLE [Employee] ALTER COLUMN [Department][varchar]"
            ],
            "metadata": {
                "azdata_cell_guid": "0b0b0493-28ad-4fd9-9637-74309d54e6e5"
            },
            "outputs": [
                {
                    "output_type": "error",
                    "evalue": "Msg 2628, Level 16, State 1, Line 1\r\nString or binary data would be truncated in table 'EmployeeDetail.dbo.Employee', column 'Department'. Truncated value: ''.",
                    "ename": "",
                    "traceback": []
                },
                {
                    "output_type": "display_data",
                    "data": {
                        "text/html": "The statement has been terminated."
                    },
                    "metadata": {}
                },
                {
                    "output_type": "display_data",
                    "data": {
                        "text/html": "Total execution time: 00:00:00.019"
                    },
                    "metadata": {}
                }
            ],
            "execution_count": 16
        },
        {
            "cell_type": "code",
            "source": [
                "INSERT INTO Employee(EployeeId,Name,Department,Training) VALUES ('9015','Raghu','SE','55')"
            ],
            "metadata": {
                "azdata_cell_guid": "fdcbb066-4a10-4593-87b2-194043a762bc"
            },
            "outputs": [
                {
                    "output_type": "display_data",
                    "data": {
                        "text/html": "(1 row affected)"
                    },
                    "metadata": {}
                },
                {
                    "output_type": "display_data",
                    "data": {
                        "text/html": "Total execution time: 00:00:00.013"
                    },
                    "metadata": {}
                }
            ],
            "execution_count": 21
        },
        {
            "cell_type": "code",
            "source": [
                "SELECT * FROM Employee"
            ],
            "metadata": {
                "azdata_cell_guid": "87d7a950-2a2a-4055-a474-11becbd4a540"
            },
            "outputs": [
                {
                    "output_type": "display_data",
                    "data": {
                        "text/html": "(9 rows affected)"
                    },
                    "metadata": {}
                },
                {
                    "output_type": "display_data",
                    "data": {
                        "text/html": "Total execution time: 00:00:00.010"
                    },
                    "metadata": {}
                },
                {
                    "output_type": "execute_result",
                    "metadata": {},
                    "execution_count": 22,
                    "data": {
                        "application/vnd.dataresource+json": {
                            "schema": {
                                "fields": [
                                    {
                                        "name": "EployeeId"
                                    },
                                    {
                                        "name": "Name"
                                    },
                                    {
                                        "name": "Department"
                                    },
                                    {
                                        "name": "Training"
                                    },
                                    {
                                        "name": "Location"
                                    }
                                ]
                            },
                            "data": [
                                {
                                    "0": "1234",
                                    "1": "J. Jones",
                                    "2": "Sales",
                                    "3": "24",
                                    "4": "NULL"
                                },
                                {
                                    "0": "2345",
                                    "1": "S. Smith",
                                    "2": "Production",
                                    "3": "40",
                                    "4": "NULL"
                                },
                                {
                                    "0": "3456",
                                    "1": "A. Adams",
                                    "2": "Sales",
                                    "3": "60",
                                    "4": "NULL"
                                },
                                {
                                    "0": "4567",
                                    "1": "B. Bates",
                                    "2": "Advertising",
                                    "3": "16",
                                    "4": "NULL"
                                },
                                {
                                    "0": "5678",
                                    "1": "D. Davis",
                                    "2": "Production",
                                    "3": "56",
                                    "4": "NULL"
                                },
                                {
                                    "0": "6789",
                                    "1": "C. Cole",
                                    "2": "Shipping",
                                    "3": "32",
                                    "4": "NULL"
                                },
                                {
                                    "0": "9015",
                                    "1": "Raghu",
                                    "2": "SE",
                                    "3": "55",
                                    "4": "NULL"
                                },
                                {
                                    "0": "8901",
                                    "1": "F. Files",
                                    "2": "Advertising",
                                    "3": "24",
                                    "4": "NULL"
                                },
                                {
                                    "0": "9012",
                                    "1": "G. Gates",
                                    "2": "Advertising",
                                    "3": "48",
                                    "4": "NULL"
                                }
                            ]
                        },
                        "text/html": [
                            "<table>",
                            "<tr><th>EployeeId</th><th>Name</th><th>Department</th><th>Training</th><th>Location</th></tr>",
                            "<tr><td>1234</td><td>J. Jones</td><td>Sales</td><td>24</td><td>NULL</td></tr>",
                            "<tr><td>2345</td><td>S. Smith</td><td>Production</td><td>40</td><td>NULL</td></tr>",
                            "<tr><td>3456</td><td>A. Adams</td><td>Sales</td><td>60</td><td>NULL</td></tr>",
                            "<tr><td>4567</td><td>B. Bates</td><td>Advertising</td><td>16</td><td>NULL</td></tr>",
                            "<tr><td>5678</td><td>D. Davis</td><td>Production</td><td>56</td><td>NULL</td></tr>",
                            "<tr><td>6789</td><td>C. Cole</td><td>Shipping</td><td>32</td><td>NULL</td></tr>",
                            "<tr><td>9015</td><td>Raghu</td><td>SE</td><td>55</td><td>NULL</td></tr>",
                            "<tr><td>8901</td><td>F. Files</td><td>Advertising</td><td>24</td><td>NULL</td></tr>",
                            "<tr><td>9012</td><td>G. Gates</td><td>Advertising</td><td>48</td><td>NULL</td></tr>",
                            "</table>"
                        ]
                    }
                }
            ],
            "execution_count": 22
        }
    ]
}