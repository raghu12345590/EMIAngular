{
    "metadata": {
        "kernelspec": {
            "name": "SQL",
            "display_name": "SQL",
            "language": "sql"
        },
        "language_info": {
            "name": "sql",
            "version": ""
        },
        "extensions": {
            "azuredatastudio": {
                "version": 1,
                "views": []
            }
        }
    },
    "nbformat_minor": 2,
    "nbformat": 4,
    "cells": [
        {
            "cell_type": "code",
            "source": [
                "SELECT * FROM Employee_detail WHERE FirstName like '[^a-p]%';"
            ],
            "metadata": {
                "azdata_cell_guid": "508f9712-7549-4446-83c1-eee4fabed43a"
            },
            "outputs": [
                {
                    "output_type": "display_data",
                    "data": {
                        "text/html": "(1 row affected)"
                    },
                    "metadata": {}
                },
                {
                    "output_type": "display_data",
                    "data": {
                        "text/html": "Total execution time: 00:00:00.004"
                    },
                    "metadata": {}
                },
                {
                    "output_type": "execute_result",
                    "metadata": {},
                    "execution_count": 1,
                    "data": {
                        "application/vnd.dataresource+json": {
                            "schema": {
                                "fields": [
                                    {
                                        "name": "Empid"
                                    },
                                    {
                                        "name": "FirstName"
                                    },
                                    {
                                        "name": "Lastname"
                                    },
                                    {
                                        "name": "Salary"
                                    },
                                    {
                                        "name": "JoiningDate"
                                    },
                                    {
                                        "name": "Department"
                                    },
                                    {
                                        "name": "Gender"
                                    }
                                ]
                            },
                            "data": [
                                {
                                    "0": "1",
                                    "1": "Vikas",
                                    "2": "Ahlawat",
                                    "3": "600000.00",
                                    "4": "2015-02-15 00:00:00.000",
                                    "5": "IT",
                                    "6": "Male"
                                }
                            ]
                        },
                        "text/html": [
                            "<table>",
                            "<tr><th>Empid</th><th>FirstName</th><th>Lastname</th><th>Salary</th><th>JoiningDate</th><th>Department</th><th>Gender</th></tr>",
                            "<tr><td>1</td><td>Vikas</td><td>Ahlawat</td><td>600000.00</td><td>2015-02-15 00:00:00.000</td><td>IT</td><td>Male</td></tr>",
                            "</table>"
                        ]
                    }
                }
            ],
            "execution_count": 1
        },
        {
            "cell_type": "code",
            "source": [
                "SELECT * FROM Employee_detail WHERE Gender LIKE '__le' ;"
            ],
            "metadata": {
                "azdata_cell_guid": "1742566b-525a-4f1d-9534-02b00fa19a1c"
            },
            "outputs": [
                {
                    "output_type": "display_data",
                    "data": {
                        "text/html": "(4 rows affected)"
                    },
                    "metadata": {}
                },
                {
                    "output_type": "display_data",
                    "data": {
                        "text/html": "Total execution time: 00:00:00.006"
                    },
                    "metadata": {}
                },
                {
                    "output_type": "execute_result",
                    "metadata": {},
                    "execution_count": 3,
                    "data": {
                        "application/vnd.dataresource+json": {
                            "schema": {
                                "fields": [
                                    {
                                        "name": "Empid"
                                    },
                                    {
                                        "name": "FirstName"
                                    },
                                    {
                                        "name": "Lastname"
                                    },
                                    {
                                        "name": "Salary"
                                    },
                                    {
                                        "name": "JoiningDate"
                                    },
                                    {
                                        "name": "Department"
                                    },
                                    {
                                        "name": "Gender"
                                    }
                                ]
                            },
                            "data": [
                                {
                                    "0": "1",
                                    "1": "Vikas",
                                    "2": "Ahlawat",
                                    "3": "600000.00",
                                    "4": "2015-02-15 00:00:00.000",
                                    "5": "IT",
                                    "6": "Male"
                                },
                                {
                                    "0": "3",
                                    "1": "Ashish",
                                    "2": "Kumar",
                                    "3": "1000000.00",
                                    "4": "2014-09-01 00:00:00.000",
                                    "5": "IT",
                                    "6": "Male"
                                },
                                {
                                    "0": "4",
                                    "1": "Nikil",
                                    "2": "Sharma",
                                    "3": "480000.00",
                                    "4": "2014-01-09 00:00:00.000",
                                    "5": "HR",
                                    "6": "Male"
                                },
                                {
                                    "0": "5",
                                    "1": "Anish",
                                    "2": "Kadan",
                                    "3": "500000.00",
                                    "4": "2014-01-09 00:00:00.000",
                                    "5": "Payroll",
                                    "6": "Male"
                                }
                            ]
                        },
                        "text/html": [
                            "<table>",
                            "<tr><th>Empid</th><th>FirstName</th><th>Lastname</th><th>Salary</th><th>JoiningDate</th><th>Department</th><th>Gender</th></tr>",
                            "<tr><td>1</td><td>Vikas</td><td>Ahlawat</td><td>600000.00</td><td>2015-02-15 00:00:00.000</td><td>IT</td><td>Male</td></tr>",
                            "<tr><td>3</td><td>Ashish</td><td>Kumar</td><td>1000000.00</td><td>2014-09-01 00:00:00.000</td><td>IT</td><td>Male</td></tr>",
                            "<tr><td>4</td><td>Nikil</td><td>Sharma</td><td>480000.00</td><td>2014-01-09 00:00:00.000</td><td>HR</td><td>Male</td></tr>",
                            "<tr><td>5</td><td>Anish</td><td>Kadan</td><td>500000.00</td><td>2014-01-09 00:00:00.000</td><td>Payroll</td><td>Male</td></tr>",
                            "</table>"
                        ]
                    }
                }
            ],
            "execution_count": 3
        },
        {
            "cell_type": "code",
            "source": [
                "SELECT * FROM Employee_detail WHERE FirstName LIKE 'A_____' ;"
            ],
            "metadata": {
                "azdata_cell_guid": "6fd7c89a-8634-4a14-8e12-54385e9cf458"
            },
            "outputs": [
                {
                    "output_type": "display_data",
                    "data": {
                        "text/html": "(1 row affected)"
                    },
                    "metadata": {}
                },
                {
                    "output_type": "display_data",
                    "data": {
                        "text/html": "Total execution time: 00:00:00.007"
                    },
                    "metadata": {}
                },
                {
                    "output_type": "execute_result",
                    "metadata": {},
                    "execution_count": 4,
                    "data": {
                        "application/vnd.dataresource+json": {
                            "schema": {
                                "fields": [
                                    {
                                        "name": "Empid"
                                    },
                                    {
                                        "name": "FirstName"
                                    },
                                    {
                                        "name": "Lastname"
                                    },
                                    {
                                        "name": "Salary"
                                    },
                                    {
                                        "name": "JoiningDate"
                                    },
                                    {
                                        "name": "Department"
                                    },
                                    {
                                        "name": "Gender"
                                    }
                                ]
                            },
                            "data": [
                                {
                                    "0": "3",
                                    "1": "Ashish",
                                    "2": "Kumar",
                                    "3": "1000000.00",
                                    "4": "2014-09-01 00:00:00.000",
                                    "5": "IT",
                                    "6": "Male"
                                }
                            ]
                        },
                        "text/html": [
                            "<table>",
                            "<tr><th>Empid</th><th>FirstName</th><th>Lastname</th><th>Salary</th><th>JoiningDate</th><th>Department</th><th>Gender</th></tr>",
                            "<tr><td>3</td><td>Ashish</td><td>Kumar</td><td>1000000.00</td><td>2014-09-01 00:00:00.000</td><td>IT</td><td>Male</td></tr>",
                            "</table>"
                        ]
                    }
                }
            ],
            "execution_count": 4
        },
        {
            "cell_type": "code",
            "source": [
                "SELECT Distinct(Department) FROM Employee_detail ;"
            ],
            "metadata": {
                "azdata_cell_guid": "e486861a-56ff-4e45-bcc1-6d39282bb823"
            },
            "outputs": [
                {
                    "output_type": "display_data",
                    "data": {
                        "text/html": "(3 rows affected)"
                    },
                    "metadata": {}
                },
                {
                    "output_type": "display_data",
                    "data": {
                        "text/html": "Total execution time: 00:00:00.007"
                    },
                    "metadata": {}
                },
                {
                    "output_type": "execute_result",
                    "metadata": {},
                    "execution_count": 5,
                    "data": {
                        "application/vnd.dataresource+json": {
                            "schema": {
                                "fields": [
                                    {
                                        "name": "Department"
                                    }
                                ]
                            },
                            "data": [
                                {
                                    "0": "HR"
                                },
                                {
                                    "0": "IT"
                                },
                                {
                                    "0": "Payroll"
                                }
                            ]
                        },
                        "text/html": [
                            "<table>",
                            "<tr><th>Department</th></tr>",
                            "<tr><td>HR</td></tr>",
                            "<tr><td>IT</td></tr>",
                            "<tr><td>Payroll</td></tr>",
                            "</table>"
                        ]
                    }
                }
            ],
            "execution_count": 5
        },
        {
            "cell_type": "code",
            "source": [
                "SELECT MAX(Salary), MIN(Salary) FROM Employee_detail ;"
            ],
            "metadata": {
                "azdata_cell_guid": "11d11a78-5739-41ac-b0c6-14d8d500cc81"
            },
            "outputs": [
                {
                    "output_type": "display_data",
                    "data": {
                        "text/html": "(1 row affected)"
                    },
                    "metadata": {}
                },
                {
                    "output_type": "display_data",
                    "data": {
                        "text/html": "Total execution time: 00:00:00.009"
                    },
                    "metadata": {}
                },
                {
                    "output_type": "execute_result",
                    "metadata": {},
                    "execution_count": 6,
                    "data": {
                        "application/vnd.dataresource+json": {
                            "schema": {
                                "fields": [
                                    {
                                        "name": "(No column name)"
                                    },
                                    {
                                        "name": "(No column name)"
                                    }
                                ]
                            },
                            "data": [
                                {
                                    "0": "1000000.00",
                                    "1": "480000.00"
                                }
                            ]
                        },
                        "text/html": [
                            "<table>",
                            "<tr><th>(No column name)</th><th>(No column name)</th></tr>",
                            "<tr><td>1000000.00</td><td>480000.00</td></tr>",
                            "</table>"
                        ]
                    }
                }
            ],
            "execution_count": 6
        },
        {
            "cell_type": "code",
            "source": [
                "SELECT Convert(date, JoiningDate) from Employee_detail ;"
            ],
            "metadata": {
                "azdata_cell_guid": "2ae0e903-0750-46cb-8844-b05eaa24ad2d"
            },
            "outputs": [
                {
                    "output_type": "display_data",
                    "data": {
                        "text/html": "(5 rows affected)"
                    },
                    "metadata": {}
                },
                {
                    "output_type": "display_data",
                    "data": {
                        "text/html": "Total execution time: 00:00:00.004"
                    },
                    "metadata": {}
                },
                {
                    "output_type": "execute_result",
                    "metadata": {},
                    "execution_count": 9,
                    "data": {
                        "application/vnd.dataresource+json": {
                            "schema": {
                                "fields": [
                                    {
                                        "name": "(No column name)"
                                    }
                                ]
                            },
                            "data": [
                                {
                                    "0": "2015-02-15"
                                },
                                {
                                    "0": "2017-09-01"
                                },
                                {
                                    "0": "2014-09-01"
                                },
                                {
                                    "0": "2014-01-09"
                                },
                                {
                                    "0": "2014-01-09"
                                }
                            ]
                        },
                        "text/html": [
                            "<table>",
                            "<tr><th>(No column name)</th></tr>",
                            "<tr><td>2015-02-15</td></tr>",
                            "<tr><td>2017-09-01</td></tr>",
                            "<tr><td>2014-09-01</td></tr>",
                            "<tr><td>2014-01-09</td></tr>",
                            "<tr><td>2014-01-09</td></tr>",
                            "</table>"
                        ]
                    }
                }
            ],
            "execution_count": 9
        },
        {
            "cell_type": "code",
            "source": [
                "SELECT * FROM Employee_detail WHERE FirstName IN ('Vikas', 'Akash', 'Nikil');"
            ],
            "metadata": {
                "azdata_cell_guid": "a566196f-bf78-4818-bbb1-eae821d27791"
            },
            "outputs": [
                {
                    "output_type": "display_data",
                    "data": {
                        "text/html": "(2 rows affected)"
                    },
                    "metadata": {}
                },
                {
                    "output_type": "display_data",
                    "data": {
                        "text/html": "Total execution time: 00:00:00.005"
                    },
                    "metadata": {}
                },
                {
                    "output_type": "execute_result",
                    "metadata": {},
                    "execution_count": 16,
                    "data": {
                        "application/vnd.dataresource+json": {
                            "schema": {
                                "fields": [
                                    {
                                        "name": "Empid"
                                    },
                                    {
                                        "name": "FirstName"
                                    },
                                    {
                                        "name": "Lastname"
                                    },
                                    {
                                        "name": "Salary"
                                    },
                                    {
                                        "name": "JoiningDate"
                                    },
                                    {
                                        "name": "Department"
                                    },
                                    {
                                        "name": "Gender"
                                    }
                                ]
                            },
                            "data": [
                                {
                                    "0": "1",
                                    "1": "Vikas",
                                    "2": "Ahlawat",
                                    "3": "600000.00",
                                    "4": "2015-02-15 00:00:00.000",
                                    "5": "IT",
                                    "6": "Male"
                                },
                                {
                                    "0": "4",
                                    "1": "Nikil",
                                    "2": "Sharma",
                                    "3": "480000.00",
                                    "4": "2014-01-09 00:00:00.000",
                                    "5": "HR",
                                    "6": "Male"
                                }
                            ]
                        },
                        "text/html": [
                            "<table>",
                            "<tr><th>Empid</th><th>FirstName</th><th>Lastname</th><th>Salary</th><th>JoiningDate</th><th>Department</th><th>Gender</th></tr>",
                            "<tr><td>1</td><td>Vikas</td><td>Ahlawat</td><td>600000.00</td><td>2015-02-15 00:00:00.000</td><td>IT</td><td>Male</td></tr>",
                            "<tr><td>4</td><td>Nikil</td><td>Sharma</td><td>480000.00</td><td>2014-01-09 00:00:00.000</td><td>HR</td><td>Male</td></tr>",
                            "</table>"
                        ]
                    }
                }
            ],
            "execution_count": 16
        },
        {
            "cell_type": "code",
            "source": [
                "SELECT * FROM Employee_detail WHERE FirstName NOT IN ('Vikas', 'Akash', 'Nikil');"
            ],
            "metadata": {
                "azdata_cell_guid": "123634f9-08cf-4fb4-a125-f2d7884a84f5"
            },
            "outputs": [
                {
                    "output_type": "display_data",
                    "data": {
                        "text/html": "(3 rows affected)"
                    },
                    "metadata": {}
                },
                {
                    "output_type": "display_data",
                    "data": {
                        "text/html": "Total execution time: 00:00:00.008"
                    },
                    "metadata": {}
                },
                {
                    "output_type": "execute_result",
                    "metadata": {},
                    "execution_count": 17,
                    "data": {
                        "application/vnd.dataresource+json": {
                            "schema": {
                                "fields": [
                                    {
                                        "name": "Empid"
                                    },
                                    {
                                        "name": "FirstName"
                                    },
                                    {
                                        "name": "Lastname"
                                    },
                                    {
                                        "name": "Salary"
                                    },
                                    {
                                        "name": "JoiningDate"
                                    },
                                    {
                                        "name": "Department"
                                    },
                                    {
                                        "name": "Gender"
                                    }
                                ]
                            },
                            "data": [
                                {
                                    "0": "2",
                                    "1": "Nikita",
                                    "2": "Jain",
                                    "3": "530000.00",
                                    "4": "2017-09-01 00:00:00.000",
                                    "5": "HR",
                                    "6": "Female"
                                },
                                {
                                    "0": "3",
                                    "1": "Ashish",
                                    "2": "Kumar",
                                    "3": "1000000.00",
                                    "4": "2014-09-01 00:00:00.000",
                                    "5": "IT",
                                    "6": "Male"
                                },
                                {
                                    "0": "5",
                                    "1": "Anish",
                                    "2": "Kadan",
                                    "3": "500000.00",
                                    "4": "2014-01-09 00:00:00.000",
                                    "5": "Payroll",
                                    "6": "Male"
                                }
                            ]
                        },
                        "text/html": [
                            "<table>",
                            "<tr><th>Empid</th><th>FirstName</th><th>Lastname</th><th>Salary</th><th>JoiningDate</th><th>Department</th><th>Gender</th></tr>",
                            "<tr><td>2</td><td>Nikita</td><td>Jain</td><td>530000.00</td><td>2017-09-01 00:00:00.000</td><td>HR</td><td>Female</td></tr>",
                            "<tr><td>3</td><td>Ashish</td><td>Kumar</td><td>1000000.00</td><td>2014-09-01 00:00:00.000</td><td>IT</td><td>Male</td></tr>",
                            "<tr><td>5</td><td>Anish</td><td>Kadan</td><td>500000.00</td><td>2014-01-09 00:00:00.000</td><td>Payroll</td><td>Male</td></tr>",
                            "</table>"
                        ]
                    }
                }
            ],
            "execution_count": 17
        },
        {
            "cell_type": "code",
            "source": [
                "SELECT FirstName, SUBSTRING(Gender, 1,1) FROM Employee_detail;  "
            ],
            "metadata": {
                "azdata_cell_guid": "be68b892-05d4-4d23-9078-b6dd5df1877c"
            },
            "outputs": [
                {
                    "output_type": "display_data",
                    "data": {
                        "text/html": "(5 rows affected)"
                    },
                    "metadata": {}
                },
                {
                    "output_type": "display_data",
                    "data": {
                        "text/html": "Total execution time: 00:00:00.007"
                    },
                    "metadata": {}
                },
                {
                    "output_type": "execute_result",
                    "metadata": {},
                    "execution_count": 19,
                    "data": {
                        "application/vnd.dataresource+json": {
                            "schema": {
                                "fields": [
                                    {
                                        "name": "FirstName"
                                    },
                                    {
                                        "name": "(No column name)"
                                    }
                                ]
                            },
                            "data": [
                                {
                                    "0": "Vikas",
                                    "1": "M"
                                },
                                {
                                    "0": "Nikita",
                                    "1": "F"
                                },
                                {
                                    "0": "Ashish",
                                    "1": "M"
                                },
                                {
                                    "0": "Nikil",
                                    "1": "M"
                                },
                                {
                                    "0": "Anish",
                                    "1": "M"
                                }
                            ]
                        },
                        "text/html": [
                            "<table>",
                            "<tr><th>FirstName</th><th>(No column name)</th></tr>",
                            "<tr><td>Vikas</td><td>M</td></tr>",
                            "<tr><td>Nikita</td><td>F</td></tr>",
                            "<tr><td>Ashish</td><td>M</td></tr>",
                            "<tr><td>Nikil</td><td>M</td></tr>",
                            "<tr><td>Anish</td><td>M</td></tr>",
                            "</table>"
                        ]
                    }
                }
            ],
            "execution_count": 19
        },
        {
            "cell_type": "code",
            "source": [
                "SELECT 'Hello  ' + FirstName FROM Employee_detail;"
            ],
            "metadata": {
                "azdata_cell_guid": "c73f87f6-29c4-429c-920f-47b120ed106c"
            },
            "outputs": [
                {
                    "output_type": "display_data",
                    "data": {
                        "text/html": "(5 rows affected)"
                    },
                    "metadata": {}
                },
                {
                    "output_type": "display_data",
                    "data": {
                        "text/html": "Total execution time: 00:00:00.007"
                    },
                    "metadata": {}
                },
                {
                    "output_type": "execute_result",
                    "metadata": {},
                    "execution_count": 22,
                    "data": {
                        "application/vnd.dataresource+json": {
                            "schema": {
                                "fields": [
                                    {
                                        "name": "(No column name)"
                                    }
                                ]
                            },
                            "data": [
                                {
                                    "0": "Hello  Vikas"
                                },
                                {
                                    "0": "Hello  Nikita"
                                },
                                {
                                    "0": "Hello  Ashish"
                                },
                                {
                                    "0": "Hello  Nikil"
                                },
                                {
                                    "0": "Hello  Anish"
                                }
                            ]
                        },
                        "text/html": [
                            "<table>",
                            "<tr><th>(No column name)</th></tr>",
                            "<tr><td>Hello  Vikas</td></tr>",
                            "<tr><td>Hello  Nikita</td></tr>",
                            "<tr><td>Hello  Ashish</td></tr>",
                            "<tr><td>Hello  Nikil</td></tr>",
                            "<tr><td>Hello  Anish</td></tr>",
                            "</table>"
                        ]
                    }
                }
            ],
            "execution_count": 22
        },
        {
            "cell_type": "code",
            "source": [
                "SELECT MAX(Salary) FROM Employee_detail WHERE Salary < (SELECT Max(Salary) FROM Employee_detail);"
            ],
            "metadata": {
                "azdata_cell_guid": "8fef5fff-b3af-4cd3-9fbe-4a13e56c1ea0"
            },
            "outputs": [
                {
                    "output_type": "display_data",
                    "data": {
                        "text/html": "(1 row affected)"
                    },
                    "metadata": {}
                },
                {
                    "output_type": "display_data",
                    "data": {
                        "text/html": "Total execution time: 00:00:00.006"
                    },
                    "metadata": {}
                },
                {
                    "output_type": "execute_result",
                    "metadata": {},
                    "execution_count": 23,
                    "data": {
                        "application/vnd.dataresource+json": {
                            "schema": {
                                "fields": [
                                    {
                                        "name": "(No column name)"
                                    }
                                ]
                            },
                            "data": [
                                {
                                    "0": "600000.00"
                                }
                            ]
                        },
                        "text/html": [
                            "<table>",
                            "<tr><th>(No column name)</th></tr>",
                            "<tr><td>600000.00</td></tr>",
                            "</table>"
                        ]
                    }
                }
            ],
            "execution_count": 23
        }
    ]
}